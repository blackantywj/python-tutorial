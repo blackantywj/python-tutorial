{
 "cells": [
  {
   "cell_type": "markdown",
   "id": "92d19e69",
   "metadata": {},
   "source": [
    "| [02_advanced/06_装饰器.ipynb](https://github.com/shibing624/python-tutorial/blob/master/02_advanced/06_装饰器.ipynb)  | Decorator装饰器  |[Open In Colab](https://colab.research.google.com/github/shibing624/python-tutorial/blob/master/02_advanced/06_装饰器.ipynb) |\n",
    "\n",
    "# 装饰器：Decorator\n",
    "如果你有一批变量想统一按一个规则处理，并且需要缩减代码，你需要函数。\n",
    "\n",
    "如果你有一批函数想统一按一个规则处理，并且需要缩减代码，你需要装饰器（Decorator）\n",
    "\n",
    "理清下面2点：\n",
    "\n",
    "函数\n",
    "- 接受参数\n",
    "- 做点事情\n",
    "- 返回结果\n",
    "\n",
    "\n",
    "装饰器\n",
    "- 接受函数作为参数\n",
    "- 做点事情\n",
    "- 返回一个函数\n",
    "\n",
    "\n",
    "用 @ 来使用装饰器\n",
    "\n",
    "使用 @ 符号来将某个函数替换为装饰符之后的函数：\n",
    "\n",
    "例如这个函数："
   ]
  },
  {
   "cell_type": "code",
   "execution_count": 5,
   "id": "ab40e597",
   "metadata": {},
   "outputs": [],
   "source": [
    "def dec(f):\n",
    "    print('I am decorating function', id(f))\n",
    "    return f"
   ]
  },
  {
   "cell_type": "code",
   "execution_count": 6,
   "id": "2d5dc64a",
   "metadata": {},
   "outputs": [],
   "source": [
    "def foo(x):\n",
    "    print(x)  # I am decorating function 45206384"
   ]
  },
  {
   "cell_type": "code",
   "execution_count": 7,
   "id": "02d198a1",
   "metadata": {},
   "outputs": [
    {
     "name": "stdout",
     "output_type": "stream",
     "text": [
      "I am decorating function 1627318192304\n"
     ]
    }
   ],
   "source": [
    "foo = dec(foo)"
   ]
  },
  {
   "cell_type": "markdown",
   "id": "1e1b3e56",
   "metadata": {},
   "source": [
    "可以替换为："
   ]
  },
  {
   "cell_type": "code",
   "execution_count": 28,
   "id": "4d903f7d",
   "metadata": {},
   "outputs": [
    {
     "name": "stdout",
     "output_type": "stream",
     "text": [
      "I am decorating function 140410366082496\n"
     ]
    }
   ],
   "source": [
    "@dec\n",
    "def foo(x):\n",
    "    print(x)"
   ]
  },
  {
   "cell_type": "markdown",
   "id": "70d1d89d",
   "metadata": {},
   "source": [
    "### 例子\n",
    "定义两个装饰器函数，一个将原来的函数值加一，另一个乘二："
   ]
  },
  {
   "cell_type": "code",
   "execution_count": 29,
   "id": "1107d480",
   "metadata": {},
   "outputs": [],
   "source": [
    "def plus_one(f):\n",
    "    def new_func(x):\n",
    "        return f(x) + 1\n",
    "\n",
    "    return new_func"
   ]
  },
  {
   "cell_type": "code",
   "execution_count": 30,
   "id": "c091bc23",
   "metadata": {},
   "outputs": [],
   "source": [
    "def times_two(f):\n",
    "    def new_func(x):\n",
    "        return f(x) * 2\n",
    "\n",
    "    return new_func"
   ]
  },
  {
   "cell_type": "markdown",
   "id": "8625804c",
   "metadata": {},
   "source": [
    "定义函数，先乘二再加一："
   ]
  },
  {
   "cell_type": "code",
   "execution_count": 31,
   "id": "a84188e2",
   "metadata": {},
   "outputs": [],
   "source": [
    "@plus_one\n",
    "@times_two\n",
    "def foo(x):\n",
    "    return int(x)"
   ]
  },
  {
   "cell_type": "code",
   "execution_count": 32,
   "id": "ea5f6fd0",
   "metadata": {},
   "outputs": [
    {
     "data": {
      "text/plain": [
       "5"
      ]
     },
     "execution_count": 32,
     "metadata": {},
     "output_type": "execute_result"
    }
   ],
   "source": [
    "b = foo(2)\n",
    "b  # 5"
   ]
  },
  {
   "cell_type": "markdown",
   "id": "0f1bf966",
   "metadata": {},
   "source": [
    "## 修饰器工厂\n",
    "decorators factories 是返回修饰器的函数\n",
    "\n",
    "它的作用在于产生一个可以接受参数的修饰器，\n",
    "\n",
    "例如我们想将 函数 输出的内容写入一个文件去，可以这样做："
   ]
  },
  {
   "cell_type": "code",
   "execution_count": 8,
   "id": "befb9986",
   "metadata": {},
   "outputs": [],
   "source": [
    "def super_loud(filename):\n",
    "    fp = open(filename, 'w')\n",
    "\n",
    "    def loud(f):\n",
    "        def new_func(*args, **kw):\n",
    "            fp.write(str(args))\n",
    "            fp.writelines('\\n')\n",
    "            fp.write('calling with' + str(args) + str(kw))\n",
    "            # 确保内容被写入\n",
    "            fp.flush()\n",
    "            fp.close()\n",
    "            rtn = f(*args, **kw)\n",
    "            return rtn\n",
    "\n",
    "        return new_func\n",
    "\n",
    "    return loud"
   ]
  },
  {
   "cell_type": "code",
   "execution_count": 9,
   "id": "4fd6baa5",
   "metadata": {},
   "outputs": [
    {
     "name": "stdout",
     "output_type": "stream",
     "text": [
      "100\n"
     ]
    }
   ],
   "source": [
    "@super_loud('test.txt')\n",
    "def foo(x):\n",
    "    print(x)\n",
    "\n",
    "\n",
    "# 调用 foo 就会在文件中写入内容：\n",
    "foo(100)"
   ]
  },
  {
   "cell_type": "code",
   "execution_count": 45,
   "id": "f43e0965",
   "metadata": {},
   "outputs": [],
   "source": [
    "import os\n",
    "os.remove('test.txt')"
   ]
  },
  {
   "cell_type": "markdown",
   "id": "a54aee1f",
   "metadata": {},
   "source": [
    "## @classmethod 装饰器\n",
    "在 Python 标准库中，有很多自带的装饰器，\n",
    "\n",
    "例如 classmethod 将一个对象方法转换了类方法："
   ]
  },
  {
   "cell_type": "code",
   "execution_count": 35,
   "id": "37f2970d",
   "metadata": {},
   "outputs": [],
   "source": [
    "class Foo(object):\n",
    "    @classmethod\n",
    "    def bar(cls, x):\n",
    "        print('the input is', x)\n",
    "\n",
    "    def __init__(self):\n",
    "        pass"
   ]
  },
  {
   "cell_type": "markdown",
   "id": "9b6dca6f",
   "metadata": {},
   "source": [
    "类方法可以通过 类名.方法 来调用："
   ]
  },
  {
   "cell_type": "code",
   "execution_count": 36,
   "id": "150420db",
   "metadata": {},
   "outputs": [
    {
     "name": "stdout",
     "output_type": "stream",
     "text": [
      "the input is 10\n"
     ]
    }
   ],
   "source": [
    "Foo.bar(10)"
   ]
  },
  {
   "cell_type": "markdown",
   "id": "adba89fd",
   "metadata": {},
   "source": [
    "## @property 装饰器\n",
    "有时候，我们希望像 Java 一样支持 getters 和 setters 的方法，\n",
    "\n",
    "这时候就可以使用 property 装饰器："
   ]
  },
  {
   "cell_type": "code",
   "execution_count": 37,
   "id": "a7d0c3dc",
   "metadata": {},
   "outputs": [],
   "source": [
    "class Foo(object):\n",
    "    def __init__(self, data):\n",
    "        self.data = data\n",
    "\n",
    "    @property\n",
    "    def x(self):\n",
    "        return self.data\n"
   ]
  },
  {
   "cell_type": "markdown",
   "id": "ae91216c",
   "metadata": {},
   "source": [
    "此时可以使用 .x 这个属性查看数据（不需要加上括号）："
   ]
  },
  {
   "cell_type": "code",
   "execution_count": 38,
   "id": "2017109a",
   "metadata": {},
   "outputs": [
    {
     "name": "stdout",
     "output_type": "stream",
     "text": [
      "22\n"
     ]
    }
   ],
   "source": [
    "foo = Foo(22)\n",
    "print(foo.x)"
   ]
  },
  {
   "cell_type": "markdown",
   "id": "27b3c443",
   "metadata": {},
   "source": [
    "这样做的好处在于，这个属性是只读的：\n",
    "\n",
    "foo.x = 1 会报错\n",
    "\n",
    "\n",
    "如果想让它变成可读写，可以加上一个装饰符 @x.setter："
   ]
  },
  {
   "cell_type": "code",
   "execution_count": 11,
   "id": "d3776ec2",
   "metadata": {},
   "outputs": [
    {
     "ename": "NameError",
     "evalue": "name 'x' is not defined",
     "output_type": "error",
     "traceback": [
      "\u001b[1;31m---------------------------------------------------------------------------\u001b[0m",
      "\u001b[1;31mNameError\u001b[0m                                 Traceback (most recent call last)",
      "Cell \u001b[1;32mIn[11], line 1\u001b[0m\n\u001b[1;32m----> 1\u001b[0m \u001b[38;5;28;01mclass\u001b[39;00m \u001b[38;5;21;01mFoo\u001b[39;00m(\u001b[38;5;28mobject\u001b[39m):\n\u001b[0;32m      2\u001b[0m     \u001b[38;5;28;01mdef\u001b[39;00m \u001b[38;5;21m__init__\u001b[39m(\u001b[38;5;28mself\u001b[39m, data):\n\u001b[0;32m      3\u001b[0m         \u001b[38;5;28mself\u001b[39m\u001b[38;5;241m.\u001b[39mdata \u001b[38;5;241m=\u001b[39m data\n",
      "Cell \u001b[1;32mIn[11], line 6\u001b[0m, in \u001b[0;36mFoo\u001b[1;34m()\u001b[0m\n\u001b[0;32m      2\u001b[0m \u001b[38;5;28;01mdef\u001b[39;00m \u001b[38;5;21m__init__\u001b[39m(\u001b[38;5;28mself\u001b[39m, data):\n\u001b[0;32m      3\u001b[0m     \u001b[38;5;28mself\u001b[39m\u001b[38;5;241m.\u001b[39mdata \u001b[38;5;241m=\u001b[39m data\n\u001b[0;32m      5\u001b[0m \u001b[38;5;129m@property\u001b[39m\n\u001b[1;32m----> 6\u001b[0m \u001b[38;5;129m@x\u001b[39m\u001b[38;5;241m.\u001b[39msetter\n\u001b[0;32m      7\u001b[0m \u001b[38;5;28;01mdef\u001b[39;00m \u001b[38;5;21mx\u001b[39m(\u001b[38;5;28mself\u001b[39m):\n\u001b[0;32m      8\u001b[0m     \u001b[38;5;28;01mreturn\u001b[39;00m \u001b[38;5;28mself\u001b[39m\u001b[38;5;241m.\u001b[39mdata\n",
      "\u001b[1;31mNameError\u001b[0m: name 'x' is not defined"
     ]
    }
   ],
   "source": [
    "class Foo(object):\n",
    "    def __init__(self, data):\n",
    "        self.data = data\n",
    "\n",
    "    @property\n",
    "    def x(self):\n",
    "        return self.data\n",
    "\n",
    "    @x.setter\n",
    "    def x(self, value):\n",
    "        self.data = value"
   ]
  },
  {
   "cell_type": "code",
   "execution_count": 40,
   "id": "45c72448",
   "metadata": {},
   "outputs": [
    {
     "data": {
      "text/plain": [
       "1000"
      ]
     },
     "execution_count": 40,
     "metadata": {},
     "output_type": "execute_result"
    }
   ],
   "source": [
    "foo = Foo(1000)\n",
    "foo.x"
   ]
  },
  {
   "cell_type": "code",
   "execution_count": 42,
   "id": "c238a25e",
   "metadata": {},
   "outputs": [
    {
     "data": {
      "text/plain": [
       "2222"
      ]
     },
     "execution_count": 42,
     "metadata": {},
     "output_type": "execute_result"
    }
   ],
   "source": [
    "foo.x = 2222\n",
    "foo.x"
   ]
  },
  {
   "cell_type": "markdown",
   "id": "6b06a6e0",
   "metadata": {},
   "source": [
    "## 应用：定时器\n",
    "\n",
    "要求：写一个定时器功能，要求监控一个执行程序，超时则报警。\n",
    "\n",
    "如何完成？"
   ]
  },
  {
   "cell_type": "code",
   "execution_count": 55,
   "id": "db796406",
   "metadata": {},
   "outputs": [],
   "source": [
    "\n",
    "import signal\n",
    "import time\n",
    "\n",
    "# very nice function\n",
    "def set_timeout(num, callback):\n",
    "    def wrap(func):\n",
    "        def handle(signum, frame):  # 收到信号 SIGALRM 后的回调函数，参数1是信号的数字，参数2是the interrupted stack frame.\n",
    "            raise RuntimeError\n",
    "\n",
    "        def to_do(*args, **kwargs):\n",
    "            try:\n",
    "                signal.signal(signal.SIGALRM, handle)  # 设置信号和回调函数\n",
    "                signal.alarm(num)  # 设置 num 秒的闹钟\n",
    "                print('start alarm signal.')\n",
    "                r = func(*args, **kwargs)\n",
    "                print('close alarm signal.')\n",
    "                signal.alarm(0)  # 关闭闹钟\n",
    "                return r\n",
    "            except RuntimeError as e:\n",
    "                callback()\n",
    "\n",
    "        return to_do\n",
    "\n",
    "    return wrap\n",
    "\n",
    "\n",
    "def after_timeout():  # 超时后的处理函数\n",
    "    print(\"do something after timeout.\")\n",
    "    raise RuntimeError\n",
    "\n",
    "\n",
    "@set_timeout(2, after_timeout)  # 限时 2 秒超时\n",
    "def connect():  # 要执行的函数\n",
    "    time.sleep(2.4)  # 函数执行时间，写大于2的值，可测试超时\n",
    "    return \"完成\"\n",
    "\n",
    "class Demo:\n",
    "    @set_timeout(2, after_timeout)\n",
    "    def conn(self):\n",
    "        time.sleep(3)\n",
    "        return \"ok\""
   ]
  },
  {
   "cell_type": "markdown",
   "id": "d2de7ccd",
   "metadata": {},
   "source": [
    "试一下："
   ]
  },
  {
   "cell_type": "code",
   "execution_count": 56,
   "id": "b48a9f03",
   "metadata": {},
   "outputs": [
    {
     "name": "stdout",
     "output_type": "stream",
     "text": [
      "start alarm signal.\n",
      "do something after timeout.\n",
      "err\n"
     ]
    }
   ],
   "source": [
    "try:\n",
    "    a = connect()\n",
    "    print(a)\n",
    "except Exception as e:\n",
    "    a = 'err'\n",
    "    print(a)\n"
   ]
  },
  {
   "cell_type": "code",
   "execution_count": 58,
   "id": "d77a4854",
   "metadata": {},
   "outputs": [
    {
     "name": "stdout",
     "output_type": "stream",
     "text": [
      "start alarm signal.\n",
      "close alarm signal.\n",
      "ok\n"
     ]
    }
   ],
   "source": [
    "b = Demo()\n",
    "try:\n",
    "    c = b.conn()\n",
    "    print(c)\n",
    "except RuntimeError as e:\n",
    "    print('run time err.')"
   ]
  },
  {
   "cell_type": "markdown",
   "id": "191f8a51",
   "metadata": {},
   "source": [
    "如果不超时："
   ]
  },
  {
   "cell_type": "code",
   "execution_count": 59,
   "id": "9a8c240b",
   "metadata": {},
   "outputs": [
    {
     "name": "stdout",
     "output_type": "stream",
     "text": [
      "start alarm signal.\n",
      "close alarm signal.\n",
      "ok\n"
     ]
    }
   ],
   "source": [
    "class Demo:\n",
    "    @set_timeout(2, after_timeout)\n",
    "    def conn(self):\n",
    "        time.sleep(1)\n",
    "        return \"ok\"\n",
    "    \n",
    "b = Demo()\n",
    "try:\n",
    "    c = b.conn()\n",
    "    print(c)\n",
    "except RuntimeError as e:\n",
    "    print('run time err.')"
   ]
  },
  {
   "cell_type": "markdown",
   "id": "91f17f28",
   "metadata": {},
   "source": [
    "本节完。"
   ]
  },
  {
   "cell_type": "code",
   "execution_count": 2,
   "id": "041101e8",
   "metadata": {},
   "outputs": [
    {
     "name": "stdout",
     "output_type": "stream",
     "text": [
      "hi yasoob\n",
      "hi yasoob\n",
      "now you are inside the hi() function\n",
      "now you are in the greet() function\n",
      "now you are in the welcome() function\n",
      "now you are back in the hi() function\n"
     ]
    }
   ],
   "source": [
    "def hi(name='yasoob'):\n",
    "    return \"hi \" + name\n",
    "\n",
    "print(hi())\n",
    "# output: \"hi yasoob\"\n",
    "\n",
    "# 我们甚至可以将一个函数赋值给一个变量，比如\n",
    "greet = hi\n",
    "\n",
    "# 我们这里没有在使用小括号，因为我们并不是在调用hi函数\n",
    "# 而是在将它放在greet变量里头\n",
    "\n",
    "print(greet())\n",
    "\n",
    "def hi(name=\"yasoob\"):\n",
    "    print(\"now you are inside the hi() function\")\n",
    "    \n",
    "    def greet():\n",
    "        return \"now you are in the greet() function\"\n",
    "    \n",
    "    def welcome():\n",
    "        return \"now you are in the welcome() function\"\n",
    "    \n",
    "    print(greet())\n",
    "    print(welcome())\n",
    "    print(\"now you are back in the hi() function\")\n",
    "\n",
    "hi()"
   ]
  },
  {
   "cell_type": "code",
   "execution_count": 4,
   "id": "e339e001",
   "metadata": {},
   "outputs": [
    {
     "name": "stdout",
     "output_type": "stream",
     "text": [
      "<function hi.<locals>.greet at 0x0000025FC8AC29D0>\n",
      "now you are in the greet() function\n"
     ]
    }
   ],
   "source": [
    "def hi(name=\"yasoob\"):\n",
    "    def greet():\n",
    "        return \"now you are in the greet() function\"\n",
    "\n",
    "    def welcome():\n",
    "        return \"now you are in the welcome() function\"\n",
    "    \n",
    "    if name == 'yasoob':\n",
    "        return greet\n",
    "    else:\n",
    "        return welcome\n",
    "a = hi()\n",
    "print(a)\n",
    "print(a())"
   ]
  },
  {
   "cell_type": "code",
   "execution_count": 7,
   "id": "aa6f955d",
   "metadata": {},
   "outputs": [
    {
     "name": "stdout",
     "output_type": "stream",
     "text": [
      "I am doing some boring work before executing hi()\n",
      "hi yasoob\n"
     ]
    }
   ],
   "source": [
    "def hi():\n",
    "    return \"hi yasoob\"\n",
    "\n",
    "def doSomethingBeforeHi(func):\n",
    "    print(\"I am doing some boring work before executing hi()\")\n",
    "    print(func())\n",
    "    \n",
    "doSomethingBeforeHi(hi)"
   ]
  },
  {
   "cell_type": "code",
   "execution_count": 12,
   "id": "925fa355",
   "metadata": {},
   "outputs": [
    {
     "name": "stdout",
     "output_type": "stream",
     "text": [
      "I am doing some boring work before executing a_func()\n",
      "I am the function which needs some decoration to remove my foul smell\n",
      "I am doing some boring work after executing a_func()\n",
      "wrapTheFunction\n"
     ]
    }
   ],
   "source": [
    "def a_new_decorator(a_func):\n",
    "    \n",
    "    def wrapTheFunction():\n",
    "        print(\"I am doing some boring work before executing a_func()\")\n",
    "        \n",
    "        a_func()\n",
    "        \n",
    "        print(\"I am doing some boring work after executing a_func()\")\n",
    "        \n",
    "    return wrapTheFunction\n",
    "\n",
    "@a_new_decorator\n",
    "def a_function_requiring_decoration():\n",
    "    print(\"I am the function which needs some decoration to remove my foul smell\")\n",
    "\n",
    "    \n",
    "a_function_requiring_decoration()\n",
    "\n",
    "# a_function_requiring_decoration = a_new_decorator(a_function_requiring_decoration)\n",
    "# a_function_requiring_decoration()\n",
    "print(a_function_requiring_decoration.__name__)"
   ]
  },
  {
   "cell_type": "code",
   "execution_count": 13,
   "id": "d675a3ff",
   "metadata": {},
   "outputs": [
    {
     "name": "stdout",
     "output_type": "stream",
     "text": [
      "a_function_requiring_decoration\n"
     ]
    }
   ],
   "source": [
    "from functools import wraps\n",
    "\n",
    "def a_new_decorator(a_func):\n",
    "    @wraps(a_func)\n",
    "    def wrapTheFunction():\n",
    "        print(\"I am doing some boring work before executing a_func()\")\n",
    "        a_func()\n",
    "        print(\"I am doing some boring work after executing a_func()\")\n",
    "    return wrapTheFunction\n",
    "\n",
    "@a_new_decorator\n",
    "def a_function_requiring_decoration():\n",
    "    \"\"\"Hey yo! Decorate me\"\"\"\n",
    "    print(\"I am the function which needs some decoration to remove my foul smell\")\n",
    "    \n",
    "print(a_function_requiring_decoration.__name__)"
   ]
  },
  {
   "cell_type": "code",
   "execution_count": 17,
   "id": "24e007fa",
   "metadata": {},
   "outputs": [
    {
     "name": "stdout",
     "output_type": "stream",
     "text": [
      "Function is running\n"
     ]
    }
   ],
   "source": [
    "from functools import wraps\n",
    "\n",
    "def decorator_name(f):\n",
    "    @wraps(f)\n",
    "    def decorated(*args, **kwargs):\n",
    "        if not can_run:\n",
    "            return \"Function will not run\"\n",
    "        return f(*args, **kwargs)\n",
    "    return decorated\n",
    "\n",
    "\n",
    "@decorator_name\n",
    "def func():\n",
    "    return(\"Function is running\")\n",
    "\n",
    "can_run = True\n",
    "print(func())"
   ]
  },
  {
   "cell_type": "code",
   "execution_count": 18,
   "id": "07069b2f",
   "metadata": {},
   "outputs": [
    {
     "ename": "KeyboardInterrupt",
     "evalue": "",
     "output_type": "error",
     "traceback": [
      "\u001b[1;31m---------------------------------------------------------------------------\u001b[0m",
      "\u001b[1;31mKeyboardInterrupt\u001b[0m                         Traceback (most recent call last)",
      "Cell \u001b[1;32mIn[18], line 1\u001b[0m\n\u001b[1;32m----> 1\u001b[0m \u001b[38;5;28;01mfrom\u001b[39;00m \u001b[38;5;21;01mfunctools\u001b[39;00m \u001b[38;5;28;01mimport\u001b[39;00m wraps\n\u001b[0;32m      3\u001b[0m \u001b[38;5;28;01mdef\u001b[39;00m \u001b[38;5;21mrequires_auth\u001b[39m(f):\n\u001b[0;32m      4\u001b[0m     \u001b[38;5;129m@wraps\u001b[39m(f)\n\u001b[0;32m      5\u001b[0m     \u001b[38;5;28;01mdef\u001b[39;00m \u001b[38;5;21mdecorated\u001b[39m(\u001b[38;5;241m*\u001b[39margs, \u001b[38;5;241m*\u001b[39m\u001b[38;5;241m*\u001b[39mkwargs):\n",
      "Cell \u001b[1;32mIn[18], line 1\u001b[0m\n\u001b[1;32m----> 1\u001b[0m \u001b[38;5;28;01mfrom\u001b[39;00m \u001b[38;5;21;01mfunctools\u001b[39;00m \u001b[38;5;28;01mimport\u001b[39;00m wraps\n\u001b[0;32m      3\u001b[0m \u001b[38;5;28;01mdef\u001b[39;00m \u001b[38;5;21mrequires_auth\u001b[39m(f):\n\u001b[0;32m      4\u001b[0m     \u001b[38;5;129m@wraps\u001b[39m(f)\n\u001b[0;32m      5\u001b[0m     \u001b[38;5;28;01mdef\u001b[39;00m \u001b[38;5;21mdecorated\u001b[39m(\u001b[38;5;241m*\u001b[39margs, \u001b[38;5;241m*\u001b[39m\u001b[38;5;241m*\u001b[39mkwargs):\n",
      "File \u001b[1;32m_pydevd_bundle/pydevd_cython.pyx:1457\u001b[0m, in \u001b[0;36m_pydevd_bundle.pydevd_cython.SafeCallWrapper.__call__\u001b[1;34m()\u001b[0m\n",
      "File \u001b[1;32m_pydevd_bundle/pydevd_cython.pyx:701\u001b[0m, in \u001b[0;36m_pydevd_bundle.pydevd_cython.PyDBFrame.trace_dispatch\u001b[1;34m()\u001b[0m\n",
      "File \u001b[1;32m_pydevd_bundle/pydevd_cython.pyx:1395\u001b[0m, in \u001b[0;36m_pydevd_bundle.pydevd_cython.PyDBFrame.trace_dispatch\u001b[1;34m()\u001b[0m\n",
      "File \u001b[1;32m_pydevd_bundle/pydevd_cython.pyx:1344\u001b[0m, in \u001b[0;36m_pydevd_bundle.pydevd_cython.PyDBFrame.trace_dispatch\u001b[1;34m()\u001b[0m\n",
      "File \u001b[1;32m_pydevd_bundle/pydevd_cython.pyx:312\u001b[0m, in \u001b[0;36m_pydevd_bundle.pydevd_cython.PyDBFrame.do_wait_suspend\u001b[1;34m()\u001b[0m\n",
      "File \u001b[1;32m~\\AppData\\Roaming\\Python\\Python38\\site-packages\\debugpy\\_vendored\\pydevd\\pydevd.py:2070\u001b[0m, in \u001b[0;36mPyDB.do_wait_suspend\u001b[1;34m(self, thread, frame, event, arg, exception_type)\u001b[0m\n\u001b[0;32m   2067\u001b[0m             from_this_thread\u001b[38;5;241m.\u001b[39mappend(frame_custom_thread_id)\n\u001b[0;32m   2069\u001b[0m     \u001b[38;5;28;01mwith\u001b[39;00m \u001b[38;5;28mself\u001b[39m\u001b[38;5;241m.\u001b[39m_threads_suspended_single_notification\u001b[38;5;241m.\u001b[39mnotify_thread_suspended(thread_id, thread, stop_reason):\n\u001b[1;32m-> 2070\u001b[0m         keep_suspended \u001b[38;5;241m=\u001b[39m \u001b[38;5;28;43mself\u001b[39;49m\u001b[38;5;241;43m.\u001b[39;49m\u001b[43m_do_wait_suspend\u001b[49m\u001b[43m(\u001b[49m\u001b[43mthread\u001b[49m\u001b[43m,\u001b[49m\u001b[43m \u001b[49m\u001b[43mframe\u001b[49m\u001b[43m,\u001b[49m\u001b[43m \u001b[49m\u001b[43mevent\u001b[49m\u001b[43m,\u001b[49m\u001b[43m \u001b[49m\u001b[43marg\u001b[49m\u001b[43m,\u001b[49m\u001b[43m \u001b[49m\u001b[43msuspend_type\u001b[49m\u001b[43m,\u001b[49m\u001b[43m \u001b[49m\u001b[43mfrom_this_thread\u001b[49m\u001b[43m,\u001b[49m\u001b[43m \u001b[49m\u001b[43mframes_tracker\u001b[49m\u001b[43m)\u001b[49m\n\u001b[0;32m   2072\u001b[0m frames_list \u001b[38;5;241m=\u001b[39m \u001b[38;5;28;01mNone\u001b[39;00m\n\u001b[0;32m   2074\u001b[0m \u001b[38;5;28;01mif\u001b[39;00m keep_suspended:\n\u001b[0;32m   2075\u001b[0m     \u001b[38;5;66;03m# This means that we should pause again after a set next statement.\u001b[39;00m\n",
      "File \u001b[1;32m~\\AppData\\Roaming\\Python\\Python38\\site-packages\\debugpy\\_vendored\\pydevd\\pydevd.py:2106\u001b[0m, in \u001b[0;36mPyDB._do_wait_suspend\u001b[1;34m(self, thread, frame, event, arg, suspend_type, from_this_thread, frames_tracker)\u001b[0m\n\u001b[0;32m   2103\u001b[0m         \u001b[38;5;28mself\u001b[39m\u001b[38;5;241m.\u001b[39m_call_input_hook()\n\u001b[0;32m   2105\u001b[0m     \u001b[38;5;28mself\u001b[39m\u001b[38;5;241m.\u001b[39mprocess_internal_commands()\n\u001b[1;32m-> 2106\u001b[0m     \u001b[43mtime\u001b[49m\u001b[38;5;241;43m.\u001b[39;49m\u001b[43msleep\u001b[49m\u001b[43m(\u001b[49m\u001b[38;5;241;43m0.01\u001b[39;49m\u001b[43m)\u001b[49m\n\u001b[0;32m   2108\u001b[0m \u001b[38;5;28mself\u001b[39m\u001b[38;5;241m.\u001b[39mcancel_async_evaluation(get_current_thread_id(thread), \u001b[38;5;28mstr\u001b[39m(\u001b[38;5;28mid\u001b[39m(frame)))\n\u001b[0;32m   2110\u001b[0m \u001b[38;5;66;03m# process any stepping instructions\u001b[39;00m\n",
      "\u001b[1;31mKeyboardInterrupt\u001b[0m: "
     ]
    }
   ],
   "source": [
    "from functools import wraps\n",
    "\n",
    "def requires_auth(f):\n",
    "    @wraps(f)\n",
    "    def decorated(*args, **kwargs):\n",
    "        auth = request.authorization\n",
    "        if not auth or not checkauth(auth.name, auth.password):\n",
    "            authenticate()\n",
    "        return f(*args, **kwargs)\n",
    "    return decorated\n"
   ]
  },
  {
   "cell_type": "code",
   "execution_count": 20,
   "id": "625bb6f0",
   "metadata": {},
   "outputs": [],
   "source": [
    "from functools import wraps\n",
    "\n",
    "def logits(func):\n",
    "    @wraps(func)\n",
    "    def with_logging(*args, **kwargs):\n",
    "        print(func.__name__ + \"was called\")\n",
    "        return func(*args, **kwargs)\n",
    "    return with_logging\n",
    "\n",
    "@logits\n",
    "def addition_func(x):\n",
    "    \"\"\"Do some math.\"\"\"\n",
    "    return x + x"
   ]
  },
  {
   "cell_type": "code",
   "execution_count": 25,
   "id": "e36029c8",
   "metadata": {},
   "outputs": [
    {
     "name": "stdout",
     "output_type": "stream",
     "text": [
      "myfunc1was called\n"
     ]
    }
   ],
   "source": [
    "from functools import wraps\n",
    "\n",
    "def logit(logfile='out.log'):\n",
    "    def logging_decorator(func):\n",
    "        @wraps(func)\n",
    "        def wrapped_function(*args, **kwargs):\n",
    "            log_string = func.__name__ + \"was called\"\n",
    "            print(log_string)\n",
    "            # 打开log_file,并写入内容\n",
    "            with open(logfile, \"a\") as opened_file:\n",
    "                # 现在将日志打到指定的logfile\n",
    "                opened_file.write(log_string + '\\n')\n",
    "            return func(*args, **kwargs)\n",
    "        return wrapped_function\n",
    "    return logging_decorator\n",
    "\n",
    "@logit()\n",
    "def myfunc1():\n",
    "    pass\n",
    "\n",
    "myfunc1()"
   ]
  },
  {
   "cell_type": "code",
   "execution_count": 32,
   "id": "8f5e6592",
   "metadata": {},
   "outputs": [
    {
     "name": "stdout",
     "output_type": "stream",
     "text": [
      "myfunc1was called\n"
     ]
    }
   ],
   "source": [
    "class logit(object):\n",
    "    _logfile = 'out.log'\n",
    "    \n",
    "    def __init__(self, func):\n",
    "        self.func = func\n",
    "    \n",
    "    def __call__(self, *args):\n",
    "        log_string = self.func.__name__ + \"was called\"\n",
    "        print(log_string)\n",
    "        # 打开logfile写入\n",
    "        with open(self._logfile, \"a\") as opened_file:\n",
    "            # 现实将日志打到指定的文件\n",
    "            opened_file.write(log_string + '\\n')\n",
    "        # 现在，发送一个通知\n",
    "        self.notify()\n",
    "        \n",
    "        # return base func\n",
    "        return self.func(*args)\n",
    "\n",
    "    def notify(self):\n",
    "        # logit只打日志，不做别的\n",
    "        pass\n",
    "    \n",
    "logit._logfile = 'out2.log'\n",
    "@logit\n",
    "def myfunc1():\n",
    "    pass\n",
    "\n",
    "myfunc1()\n",
    "\n",
    "class email_logit(logit):\n",
    "    \n",
    "    '''一个logit的实现版本，可以在函数调用时发送email给管理员'''\n",
    "    def __init__(self, email='admin@myproject.com', *arg, **kwargs):\n",
    "        \n",
    "       self.email = email\n",
    "       super(email_logit, self).__init__(*args, *kwargs)\n",
    "    \n",
    "    def notify(self):\n",
    "        # 发送一封email到self.email\n",
    "        pass "
   ]
  },
  {
   "cell_type": "code",
   "execution_count": 35,
   "id": "b3e72310",
   "metadata": {},
   "outputs": [
    {
     "name": "stdout",
     "output_type": "stream",
     "text": [
      "defaultdict(<class 'list'>, {'Yasoob': ['Yellow', 'Red'], 'Ali': ['Blue', 'Black'], 'Arham': ['Green'], 'Ahmed': ['Silver']})\n"
     ]
    },
    {
     "ename": "KeyError",
     "evalue": "'colours'",
     "output_type": "error",
     "traceback": [
      "\u001b[1;31m---------------------------------------------------------------------------\u001b[0m",
      "\u001b[1;31mKeyError\u001b[0m                                  Traceback (most recent call last)",
      "Cell \u001b[1;32mIn[35], line 21\u001b[0m\n\u001b[0;32m     19\u001b[0m \u001b[38;5;28mprint\u001b[39m(favourite_colours)\n\u001b[0;32m     20\u001b[0m some_dict \u001b[38;5;241m=\u001b[39m {}\n\u001b[1;32m---> 21\u001b[0m \u001b[43msome_dict\u001b[49m\u001b[43m[\u001b[49m\u001b[38;5;124;43m'\u001b[39;49m\u001b[38;5;124;43mcolours\u001b[39;49m\u001b[38;5;124;43m'\u001b[39;49m\u001b[43m]\u001b[49m[\u001b[38;5;124m'\u001b[39m\u001b[38;5;124mfavourite\u001b[39m\u001b[38;5;124m'\u001b[39m] \u001b[38;5;241m=\u001b[39m \u001b[38;5;124m\"\u001b[39m\u001b[38;5;124myellow\u001b[39m\u001b[38;5;124m\"\u001b[39m\n",
      "\u001b[1;31mKeyError\u001b[0m: 'colours'"
     ]
    }
   ],
   "source": [
    "# python中可变数据类型有:字典dict, 列表list, 集合set;\n",
    "# 不可变数据类型有:整型int,浮点型float,字符串string和元组tuple\n",
    "from collections import defaultdict\n",
    "\n",
    "colours = (\n",
    "    ('Yasoob', 'Yellow'),\n",
    "    ('Ali', 'Blue'),\n",
    "    ('Arham', 'Green'),\n",
    "    ('Ali', 'Black'),\n",
    "    ('Yasoob', 'Red'),\n",
    "    ('Ahmed', 'Silver'),\n",
    ")\n",
    "\n",
    "favourite_colours = defaultdict(list)\n",
    "\n",
    "for name, colour in colours:\n",
    "    favourite_colours[name].append(colour)\n",
    "\n",
    "print(favourite_colours)\n",
    "some_dict = {}\n",
    "some_dict['colours']['favourite'] = \"yellow\"\n"
   ]
  },
  {
   "cell_type": "code",
   "execution_count": 40,
   "id": "274c16b4",
   "metadata": {},
   "outputs": [
    {
     "name": "stdout",
     "output_type": "stream",
     "text": [
      "{\"colours\": {\"favourite\": {\"level1\": \"yellow\"}}}\n"
     ]
    }
   ],
   "source": [
    "import collections\n",
    "import json\n",
    "tree = lambda: collections.defaultdict(tree)\n",
    "some_dict = tree()\n",
    "some_dict['colours']['favourite']['level1'] = \"yellow\"\n",
    "print(json.dumps(some_dict))\n",
    "## 运行正常"
   ]
  },
  {
   "cell_type": "code",
   "execution_count": 42,
   "id": "91848ee4",
   "metadata": {},
   "outputs": [
    {
     "name": "stdout",
     "output_type": "stream",
     "text": [
      "Counter({'Yasoob': 2, 'Ali': 2, 'Arham': 1, 'Ahmed': 1})\n"
     ]
    }
   ],
   "source": [
    "from collections import Counter\n",
    "\n",
    "colours = (\n",
    "    ('Yasoob', 'Yellow'),\n",
    "    ('Ali', 'Blue'),\n",
    "    ('Arham', 'Green'),\n",
    "    ('Ali', 'Black'),\n",
    "    ('Yasoob', 'Red'),\n",
    "    ('Ahmed', 'Silver')\n",
    ")\n",
    "\n",
    "favs = Counter(name for name, colour in colours)\n",
    "print(favs)"
   ]
  },
  {
   "cell_type": "code",
   "execution_count": 46,
   "id": "6ec28f67",
   "metadata": {},
   "outputs": [
    {
     "name": "stdout",
     "output_type": "stream",
     "text": [
      "Animal(name='perry', age=31, types='cat')\n",
      "perry\n"
     ]
    }
   ],
   "source": [
    "from collections import namedtuple\n",
    "\n",
    "Animal = namedtuple('Animal', 'name age types')\n",
    "perry = Animal(name='perry', age=31, types=\"cat\")\n",
    "\n",
    "print(perry)\n",
    "\n",
    "print(perry.name)"
   ]
  },
  {
   "cell_type": "code",
   "execution_count": null,
   "id": "316733f1",
   "metadata": {},
   "outputs": [],
   "source": [
    "from collections import namedtuple\n",
    "from enum import Enum\n",
    "\n",
    "class Species(Enum):\n",
    "    cat = 1\n",
    "    dog = 2\n",
    "    hose = 3\n",
    "Animal = namedtuple('Animal', 'name age type')\n",
    "perry = Animal(name=\"Perry\", age=31, type=Species.cat)\n",
    "drogon = Animal(name=\"Drogon\", age=4, type=Species.dragon)\n",
    "tom = Animal(name=\"Tom\", age=75, type=Species.cat)\n",
    "charlie = Animal(name=\"Charlie\", age=2, type=Species.kitten)    "
   ]
  },
  {
   "cell_type": "code",
   "execution_count": 1,
   "id": "1bce2848",
   "metadata": {},
   "outputs": [],
   "source": [
    "from collections import namedtuple\n",
    "from enum import Enum\n",
    "\n",
    "class Species(Enum):\n",
    "    cat = 1\n",
    "    dog = 2\n",
    "    horse = 3\n",
    "    aardvark = 4\n",
    "    butterfly = 5\n",
    "    owl = 6\n",
    "    platypus = 7\n",
    "    dragon  = 8\n",
    "    unicorn = 9\n",
    "    \n",
    "    kitten = 1\n",
    "    puppy = 2\n",
    "    \n",
    "Animal = namedtuple(\"Animal\", 'name age type')\n",
    "perry = Animal(name='Perry', age=31, type=Species.cat)\n",
    "dragon = Animal(name=\"Perry\", age = 31, type = Species.dragon)\n",
    "tom = Animal(name=\"Tom\", age=75, type=Species.cat)\n",
    "charlie = Animal(name=\"Charlie\", age=2, type=Species.kitten)"
   ]
  },
  {
   "cell_type": "code",
   "execution_count": 5,
   "id": "e0236911",
   "metadata": {},
   "outputs": [
    {
     "name": "stdout",
     "output_type": "stream",
     "text": [
      "[0, 3, 6, 9, 12, 15, 18, 21, 24, 27]\n"
     ]
    }
   ],
   "source": [
    "# 列表推导式\n",
    "# variable = [out_exp for out_exp in input_list if out_exp == 2]\n",
    "\n",
    "multiples = [i for i in range(30) if i % 3 == 0]\n",
    "print(multiples)\n",
    "squared = []\n",
    "for x in range(10):\n",
    "    squared.append(x ** 2)"
   ]
  },
  {
   "cell_type": "code",
   "execution_count": 6,
   "id": "05fa7632",
   "metadata": {},
   "outputs": [],
   "source": [
    "mcase = {'a':10, 'b': 34, 'A': 7, 'Z': 3}\n",
    "mcase_frequency = {\n",
    "    k.lower(): mcase.get(k.lower(), 0) + mcase.get(k.upper(), 0)\n",
    "    for k in mcase.keys()\n",
    "}"
   ]
  },
  {
   "cell_type": "code",
   "execution_count": 8,
   "id": "9c83e2cf",
   "metadata": {},
   "outputs": [
    {
     "name": "stdout",
     "output_type": "stream",
     "text": [
      "she is a stupid\n"
     ]
    }
   ],
   "source": [
    "grades = {\"Alice\":90, \"Bob\":85, \"Charles\":92}\n",
    "stella_grade = grades.get(\"stella\", \"she is a stupid\")\n",
    "print(stella_grade)"
   ]
  },
  {
   "cell_type": "code",
   "execution_count": null,
   "id": "debe494b",
   "metadata": {},
   "outputs": [],
   "source": []
  }
 ],
 "metadata": {
  "kernelspec": {
   "display_name": "Python 3",
   "language": "python",
   "name": "python3"
  },
  "language_info": {
   "codemirror_mode": {
    "name": "ipython",
    "version": 3
   },
   "file_extension": ".py",
   "mimetype": "text/x-python",
   "name": "python",
   "nbconvert_exporter": "python",
   "pygments_lexer": "ipython3",
   "version": "3.8.7"
  }
 },
 "nbformat": 4,
 "nbformat_minor": 5
}
