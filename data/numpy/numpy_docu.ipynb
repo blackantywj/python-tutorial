{
 "cells": [
  {
   "cell_type": "markdown",
   "metadata": {},
   "source": [
    "The main difference between a copy and a view of an array is that the copy is a new array, and the view is just a view of the original array.\n",
    "\n",
    "The copy owns the data and any changes made to the copy will not affect original array, and any changes made to the original array will not affect the copy.\n",
    "\n",
    "The view does not own the data and any changes made to the view will affect the original array, and any changes made to the original array will affect the view."
   ]
  },
  {
   "cell_type": "code",
   "execution_count": 4,
   "metadata": {},
   "outputs": [
    {
     "name": "stdout",
     "output_type": "stream",
     "text": [
      "[32  2  3  4  5]\n",
      "[1 2 3 4 5]\n",
      "[32  2  3  4  5]\n",
      "[32  2  3  4  5]\n",
      "None [32  2  3  4  5]\n",
      "[[[[[1 2 3 4]]]]]\n",
      "shape of array: (1, 1, 1, 1, 4)\n"
     ]
    }
   ],
   "source": [
    "import numpy as np \n",
    "arr = np.array([1, 2, 3, 4, 5])\n",
    "x = arr.copy()\n",
    "arr[0] = 42\n",
    "y = arr.view()\n",
    "y[0] = 32\n",
    "print(arr)\n",
    "print(x)\n",
    "print(arr)\n",
    "print(y)\n",
    "print(x.base, y.base)\n",
    "# import numpy as np\n",
    "arr = np.array([1, 2, 3, 4], ndmin = 5)\n",
    "print(arr)\n",
    "print('shape of array:', arr.shape)"
   ]
  },
  {
   "cell_type": "code",
   "execution_count": 40,
   "metadata": {},
   "outputs": [
    {
     "name": "stdout",
     "output_type": "stream",
     "text": [
      "[False  True False  True False  True False]\n",
      "[2 4 6]\n"
     ]
    }
   ],
   "source": [
    "import numpy as np\n",
    "\n",
    "# arr = np.array([[[1, 2, 3], [4, 5, 6]], [[7, 8, 9], [10, 11, 12]]])\n",
    "# arr = np.array([[[1, 2], [3, 4]], [[5, 6], [7, 8]]])\n",
    "\n",
    "# for x in np.nditer(arr):\n",
    "#     print(x)\n",
    "    \n",
    "# arr = np.array([1, 2, 3])\n",
    "\n",
    "# for x in np.nditer(arr, flags=['buffered'], op_dtypes=['S']):\n",
    "#   print(x)\n",
    "# print(arr)\n",
    "\n",
    "# for idx, x in np.ndenumerate(arr):\n",
    "#     print(idx, x)\n",
    "\n",
    "# arr = np.array([[1, 2, 3, 4], [5, 6, 7, 8]])\n",
    "\n",
    "# for idx, x in np.ndenumerate(arr):\n",
    "#     print(idx, x)\n",
    "    \n",
    "# arr1 = np.array([1, 2, 3])\n",
    "# arr2 = np.array([4, 5 ,6])\n",
    "\n",
    "# arr = np.concatenate((arr1, arr2), axis = 0)\n",
    "# print(arr)\n",
    "\n",
    "# arr1 = np.array([[1, 2], [3, 4]])\n",
    "# arr2 = np.array([[5, 6], [7, 8]])\n",
    "\n",
    "# arr = np.concatenate((arr1, arr2), axis = 0)\n",
    "# print(arr)\n",
    "# for x in arr:\n",
    "#     print(x)\n",
    "    # for y in x:\n",
    "    #     for z in y:\n",
    "    #         print(z)\n",
    "    \n",
    "# arr1 = np.array([1, 2, 3])\n",
    "# arr2 = np.array([4, 5, 6])\n",
    "\n",
    "# arr = np.stack((arr1, arr2), axis = 1)\n",
    "# print(arr.shape)\n",
    "\n",
    "# arr = np.stack((arr1, arr2), axis = 0)\n",
    "# print(arr.shape)\n",
    "\n",
    "# arr1 = np.array([1, 2, 3])\n",
    "# arr2 = np.array([4, 5, 6])\n",
    "\n",
    "# arr = np.hstack((arr1, arr2))\n",
    "# print(arr)\n",
    "# arr = np.vstack((arr1, arr2))\n",
    "# print(arr)\n",
    "# arr = np.dstack((arr1, arr2))\n",
    "# print(arr)\n",
    "\n",
    "# arr = np.array([1, 2, 3, 4, 5, 6])\n",
    "\n",
    "# newarr = np.array_split(arr, 3)\n",
    "\n",
    "arr = np.array([1, 2, 3, 4, 5, 6])\n",
    "\n",
    "newarr = np.array_split(arr, 4)\n",
    "\n",
    "# print(newarr)\n",
    "\n",
    "arr = np.array([[1, 2, 3], [4, 5, 6], [7, 8, 9], [10, 11, 12], [13, 14, 15], [16, 17, 18]])\n",
    "\n",
    "newarr = np.array_split(arr, 3, axis = 1)\n",
    "\n",
    "# rint(newarr)\n",
    "\n",
    "arr = np.array([1, 2, 3, 4, 5, 6, 7, 8])\n",
    "\n",
    "x = np.where(arr % 2 == 0)\n",
    "\n",
    "# print(x)\n",
    "\n",
    "arr = np.array([True, False, False])\n",
    "# print(np.sort(arr))\n",
    "\n",
    "arr = np.array([[3, 2, 4], [5, 0, 1]])\n",
    "\n",
    "# print(np.sort(arr))\n",
    "\n",
    "# filter\n",
    "\n",
    "arr = np.array([1, 2, 3, 4, 5, 6, 7])\n",
    "\n",
    "filter_arr = arr % 2 == 0\n",
    "\n",
    "newarr = arr[filter_arr]\n",
    "\n",
    "print(filter_arr)\n",
    "print(newarr)\n",
    "\n"
   ]
  },
  {
   "cell_type": "code",
   "execution_count": 5,
   "metadata": {},
   "outputs": [
    {
     "name": "stdout",
     "output_type": "stream",
     "text": [
      "5\n"
     ]
    }
   ],
   "source": [
    "from numpy import random\n",
    "\n",
    "# x = random.choice([3, 5, 7, 9])\n",
    "# x = random.randint(100, size=(5,))\n",
    "# print(x)\n",
    "# x = random.rand()\n",
    "\n",
    "x = random.choice([3, 5, 7, 9], p = [0.1, 0.2, 0.3, 0.4])\n",
    "print(x)"
   ]
  },
  {
   "cell_type": "code",
   "execution_count": 10,
   "metadata": {},
   "outputs": [
    {
     "name": "stdout",
     "output_type": "stream",
     "text": [
      "[[-0.22606332 -1.83596133 -0.1759734 ]\n",
      " [ 1.33988591 -0.65435435  0.64284744]]\n"
     ]
    }
   ],
   "source": [
    "from numpy import rad2deg\n",
    "import numpy as np\n",
    "\n",
    "arr = np.array([1, 2, 3, 4, 5])\n",
    "random.shuffle(arr)\n",
    "random.permutation(arr)\n",
    "x = random.normal(size = (2,3))\n",
    "print(x)"
   ]
  },
  {
   "cell_type": "code",
   "execution_count": null,
   "metadata": {},
   "outputs": [],
   "source": []
  }
 ],
 "metadata": {
  "kernelspec": {
   "display_name": "d2l",
   "language": "python",
   "name": "python3"
  },
  "language_info": {
   "codemirror_mode": {
    "name": "ipython",
    "version": 3
   },
   "file_extension": ".py",
   "mimetype": "text/x-python",
   "name": "python",
   "nbconvert_exporter": "python",
   "pygments_lexer": "ipython3",
   "version": "3.8.17"
  }
 },
 "nbformat": 4,
 "nbformat_minor": 2
}
