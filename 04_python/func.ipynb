{
 "cells": [
  {
   "cell_type": "code",
   "execution_count": 3,
   "metadata": {},
   "outputs": [
    {
     "name": "stdout",
     "output_type": "stream",
     "text": [
      "now you are inside the hi() function\n",
      "now you are in the greet() function\n",
      "now you are in the welcome() function\n",
      "now you are in the greet() function\n",
      "now you are in the welcome() function\n",
      "now you are back in the hi() function\n"
     ]
    }
   ],
   "source": [
    "# 在函数中定义函数\n",
    "\n",
    "def hi(name='yasoob'):\n",
    "    print(\"now you are inside the hi() function\")\n",
    "    \n",
    "    def greet():\n",
    "        return \"now you are in the greet() function\"\n",
    "    \n",
    "    def welcome():\n",
    "        return \"now you are in the welcome() function\"\n",
    "    print(greet())\n",
    "    print(welcome())\n",
    "    print(greet())\n",
    "    print(welcome())\n",
    "    print(\"now you are back in the hi() function\")\n",
    "hi()\n",
    "# greet()"
   ]
  },
  {
   "cell_type": "code",
   "execution_count": 5,
   "metadata": {},
   "outputs": [
    {
     "name": "stdout",
     "output_type": "stream",
     "text": [
      "<function hi.<locals>.greet at 0x00000239772563A0>\n",
      "I am doing some boring work before executing hi()\n",
      "hi yasoob!\n"
     ]
    }
   ],
   "source": [
    "# 从函数中返回函数\n",
    "def hi(name=\"yasoob\"):\n",
    "    def greet():\n",
    "        return \"now you are in the greet() function\"\n",
    "    def welcome():\n",
    "        return \"now you are in the welcome() function\"\n",
    "    \n",
    "    if name==\"yasoob\":\n",
    "        return greet\n",
    "    else:\n",
    "        return welcome\n",
    "\n",
    "a = hi()\n",
    "\n",
    "print(a)\n",
    "# 将函数作为参数传给另一个函数\n",
    "def hi():\n",
    "    return \"hi yasoob!\"\n",
    "\n",
    "def doSomethingBeforeHi(func):\n",
    "    print(\"I am doing some boring work before executing hi()\")\n",
    "    print(func())\n",
    "    \n",
    "doSomethingBeforeHi(hi)"
   ]
  },
  {
   "cell_type": "code",
   "execution_count": 8,
   "metadata": {},
   "outputs": [
    {
     "name": "stdout",
     "output_type": "stream",
     "text": [
      "I am the function\n",
      "I am doing some boring work before executing a_func()\n",
      "I am the function\n",
      "I am doing some boring work after executing a_func()\n",
      "I am doing some boring work before executing a_func()\n",
      "I am the function which need some decoration to remove my foul smell\n",
      "I am doing some boring work after executing a_func()\n"
     ]
    }
   ],
   "source": [
    "# 装饰器\n",
    "def a_new_decorator(a_func):\n",
    "    def wrapThefunction():\n",
    "        print(\"I am doing some boring work before executing a_func()\")\n",
    "        \n",
    "        a_func()\n",
    "        \n",
    "        print(\"I am doing some boring work after executing a_func()\")\n",
    "        \n",
    "    return wrapThefunction\n",
    "\n",
    "def a_function_requiring_decoration():\n",
    "    print(\"I am the function\")\n",
    "    \n",
    "    # return wrapThefunction\n",
    "\n",
    "a_function_requiring_decoration()\n",
    "\n",
    "a_function_requiring_decoration = a_new_decorator(a_function_requiring_decoration)\n",
    "\n",
    "a_function_requiring_decoration()\n",
    "\n",
    "@a_new_decorator\n",
    "def a_function_requiring_decoration():\n",
    "    \"\"\"Hey you! Decorate me!\"\"\"\n",
    "    print(\"I am the function which need some decoration to remove my foul smell\")\n",
    "    \n",
    "a_function_requiring_decoration()\n",
    "\n",
    "a_function_requiring_decoration = a_new_decorator(a_function_requiring_decoration)\n",
    "\n"
   ]
  },
  {
   "cell_type": "code",
   "execution_count": 10,
   "metadata": {},
   "outputs": [
    {
     "name": "stdout",
     "output_type": "stream",
     "text": [
      "wrapThefunction\n",
      "<function a_function_requiring_decoration at 0x00000239775B3670>\n"
     ]
    }
   ],
   "source": [
    "print(a_function_requiring_decoration.__name__)\n",
    "# 这并不是我们想要的！Ouput输出应该是“a_function_requiring_decoration”。\n",
    "# 这里的函数被warpTheFunction替代了。它重写了我们函数的名字和注释文档(docstring)。\n",
    "# 幸运的是Python提供给我们一个简单的函数来解决这个问题，\n",
    "# 那就是functools.wraps。我们修改上一个例子来使用functools.wraps：\n",
    "from functools import wraps\n",
    "\n",
    "def a_new_decorator(a_func):\n",
    "    @wraps(a_func)\n",
    "    def wrapThefunction():\n",
    "        print(\"I am doing some boring work before executing a_func()\")\n",
    "        a_func()\n",
    "        print(\"I am doing some boring work after executing a_func()\")\n",
    "    return wrapThefunction\n",
    "@a_new_decorator\n",
    "def a_function_requiring_decoration():\n",
    "    '''Hey yo! Decorate me'''\n",
    "    print(\"I am the function which need some decoration to remove me foul smell\")\n",
    "print(a_function_requiring_decoration)"
   ]
  },
  {
   "cell_type": "code",
   "execution_count": 11,
   "metadata": {},
   "outputs": [
    {
     "name": "stdout",
     "output_type": "stream",
     "text": [
      "Function is running\n",
      "Function will not run\n"
     ]
    }
   ],
   "source": [
    "# 规范写法\n",
    "from functools import wraps\n",
    "def decorator_name(f):\n",
    "    @wraps(f)\n",
    "    def decorated(*args, **kwargs):\n",
    "        if not can_run:\n",
    "            return \"Function will not run\"\n",
    "        return f(*args, **kwargs)\n",
    "    return decorated\n",
    "\n",
    "@decorator_name\n",
    "def func():\n",
    "    return(\"Function is running\")\n",
    "\n",
    "can_run = True\n",
    "print(func())\n",
    "\n",
    "can_run = False\n",
    "print(func())\n",
    "# 注意：@wraps接受一个函数来进行装饰，\n",
    "# 并加入了复制函数名称、注释文档、参数列表等等的功能。这可以让我们在装饰器里面访问在装饰之前的函数的属性。"
   ]
  },
  {
   "cell_type": "code",
   "execution_count": 12,
   "metadata": {},
   "outputs": [],
   "source": [
    "from functools import wraps\n",
    "# import requests\n",
    "def requires_auth(f):\n",
    "    @wraps(f)\n",
    "    def decorated(*args, **kwargs):\n",
    "        auth = request.authorization\n",
    "        if not auth or not check_auth(auth.username, auth.password):\n",
    "            authenticate()\n",
    "        return f(*args, **kwargs)\n",
    "    return decorated"
   ]
  },
  {
   "cell_type": "code",
   "execution_count": 16,
   "metadata": {},
   "outputs": [
    {
     "name": "stdout",
     "output_type": "stream",
     "text": [
      "myfunc1 was called\n",
      "myfunc2 was called\n"
     ]
    }
   ],
   "source": [
    "from functools import wraps\n",
    "\n",
    "def logit(logfile='out.log'):\n",
    "    def logging_decorator(func):\n",
    "        @wraps(func)\n",
    "        def wrapper_function(*args, **kwargs):\n",
    "            log_string = func.__name__ + \" was called\"\n",
    "            print(log_string)\n",
    "            # 打开log_file, 并写入内容\n",
    "            with open(logfile, 'a') as opened_file:\n",
    "                # 现在将日志打到指定的logfile\n",
    "                opened_file.write(log_string + '\\n')\n",
    "            return func(*args, **kwargs)\n",
    "        return wrapper_function\n",
    "    return logging_decorator\n",
    "\n",
    "@logit()\n",
    "def myfunc1():\n",
    "    pass\n",
    "\n",
    "myfunc1()\n",
    "\n",
    "@logit(logfile='func2.log')\n",
    "def myfunc2():\n",
    "    pass\n",
    "myfunc2()\n"
   ]
  },
  {
   "cell_type": "code",
   "execution_count": 24,
   "metadata": {},
   "outputs": [
    {
     "name": "stdout",
     "output_type": "stream",
     "text": [
      "myfunc1 was called\n"
     ]
    }
   ],
   "source": [
    "from functools import wraps\n",
    "\n",
    "class logit(object):\n",
    "    def __init__(self, logfile='out.log'):\n",
    "        self.logfile = logfile\n",
    "    \n",
    "    def __call__(self, func):\n",
    "        @wraps(func)\n",
    "        def wrapper_function(*args, **kwargs):\n",
    "            log_string = func.__name__ + \" was called\"\n",
    "            print(log_string)\n",
    "            # 打开log_file并写入\n",
    "            with open(self.logfile, \"a\") as opened_file:\n",
    "                # 现在将日志打到指定的文件\n",
    "                opened_file.write(log_string + '\\n')\n",
    "            # 现在，发送一个通知\n",
    "            self.notify()\n",
    "            return func(*args, **kwargs)\n",
    "        return wrapper_function\n",
    "    def notify(self):\n",
    "        # Logit 纸打印日志，不做别的\n",
    "        pass\n",
    "\n",
    "@logit()\n",
    "def myfunc1():\n",
    "    pass\n",
    "\n",
    "myfunc1()"
   ]
  },
  {
   "cell_type": "code",
   "execution_count": null,
   "metadata": {},
   "outputs": [],
   "source": [
    "class email_logit(logit):\n",
    "    \"\"\"\n",
    "    一个logit的实现版本，可以在函数调用时发送email给管理员\n",
    "    \"\"\"\n",
    "    def __init__(self, email='admin@myproject.com', *args, **kwargs):\n",
    "        self.email = email\n",
    "        super(logit, self).__init__(*args, **kwargs)\n",
    "    def notify(self):\n",
    "        # 发送一封email到self.email\n",
    "        # 这里就不用做实现了\n",
    "        pass"
   ]
  },
  {
   "cell_type": "code",
   "execution_count": 25,
   "metadata": {},
   "outputs": [
    {
     "name": "stdout",
     "output_type": "stream",
     "text": [
      "(3, 5)\n",
      "8\n"
     ]
    }
   ],
   "source": [
    "def add(value1, value2):\n",
    "    return value1, value2\n",
    "\n",
    "result = add(3, 5)\n",
    "print(result)\n",
    "\n",
    "def add(value1, value2):\n",
    "    global result\n",
    "    result = value1 + value2\n",
    "add(3, 5)\n",
    "print(result)"
   ]
  },
  {
   "cell_type": "code",
   "execution_count": 26,
   "metadata": {},
   "outputs": [
    {
     "name": "stdout",
     "output_type": "stream",
     "text": [
      "['hi']\n",
      "['hi', 'bye']\n"
     ]
    }
   ],
   "source": [
    "# Python中可变(mutable)与不可变(immutable)的数据类型让新手很是头痛。\n",
    "# 简单的说，可变(mutable)意味着\"可以被改动\"，\n",
    "# 而不可变(immutable)的意思是“常量(constant)”。想把脑筋转动起来吗？考虑下这个例子：\n",
    "foo = ['hi']\n",
    "print(foo)\n",
    "\n",
    "bar = foo\n",
    "bar += ['bye']\n",
    "print(foo)\n",
    "# 这不是一个bug。这是对象可变性(mutability)在作怪。\n",
    "# 每当你将一个变量赋值为另一个可变类型的变量时，对这个数据的任意改动会同时反映到这两个变量上去。\n",
    "# 新变量只不过是老变量的一个别名而已。\n",
    "# 这个情况只是针对可变数据类型。下面的函数和可变数据类型让你一下就明白了：\n"
   ]
  },
  {
   "cell_type": "code",
   "execution_count": 27,
   "metadata": {},
   "outputs": [
    {
     "ename": "SyntaxError",
     "evalue": "unexpected EOF while parsing (475458395.py, line 5)",
     "output_type": "error",
     "traceback": [
      "\u001b[1;36m  Cell \u001b[1;32mIn[27], line 5\u001b[1;36m\u001b[0m\n\u001b[1;33m    class MyClass(object):\u001b[0m\n\u001b[1;37m                          ^\u001b[0m\n\u001b[1;31mSyntaxError\u001b[0m\u001b[1;31m:\u001b[0m unexpected EOF while parsing\n"
     ]
    }
   ],
   "source": [
    "# 在Python中，每个类都有实例属性。默认情况下Python用一个字典来保存一个对象的实例属性。\n",
    "# 这非常有用，因为它允许我们在运行时去设置任意的新属性。\n",
    "# 这个方法需要使用__slots__来告诉Python不要使用字典，\n",
    "# 而且只给一个固定集合的属性分配空间。\n",
    "class MyClass(object):\n",
    "    def __init__(self, name, identifier):\n",
    "        self.name = name\n",
    "        self.identifier = identifier\n",
    "        self.set_up\n",
    "    # ...\n",
    "    \n",
    "class MyClass(object):\n",
    "    __slot__ = ['name', 'identifier']\n",
    "    def __init__(self, name, identifier):\n",
    "        self.name = name\n",
    "        self.identifier = identifier\n",
    "        self.set_up()\n",
    "    # ...\n",
    "    "
   ]
  },
  {
   "cell_type": "code",
   "execution_count": null,
   "metadata": {},
   "outputs": [],
   "source": []
  }
 ],
 "metadata": {
  "kernelspec": {
   "display_name": "Python 3",
   "language": "python",
   "name": "python3"
  },
  "language_info": {
   "codemirror_mode": {
    "name": "ipython",
    "version": 3
   },
   "file_extension": ".py",
   "mimetype": "text/x-python",
   "name": "python",
   "nbconvert_exporter": "python",
   "pygments_lexer": "ipython3",
   "version": "3.8.7"
  }
 },
 "nbformat": 4,
 "nbformat_minor": 2
}
